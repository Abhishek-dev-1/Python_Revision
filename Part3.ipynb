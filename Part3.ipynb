{
  "nbformat": 4,
  "nbformat_minor": 0,
  "metadata": {
    "colab": {
      "provenance": [],
      "authorship_tag": "ABX9TyOyTXjblF+sd2PUL/EvAJSI",
      "include_colab_link": true
    },
    "kernelspec": {
      "name": "python3",
      "display_name": "Python 3"
    },
    "language_info": {
      "name": "python"
    }
  },
  "cells": [
    {
      "cell_type": "markdown",
      "metadata": {
        "id": "view-in-github",
        "colab_type": "text"
      },
      "source": [
        "<a href=\"https://colab.research.google.com/github/Abhishek-dev-1/Python_Revision/blob/main/Part3.ipynb\" target=\"_parent\"><img src=\"https://colab.research.google.com/assets/colab-badge.svg\" alt=\"Open In Colab\"/></a>"
      ]
    },
    {
      "cell_type": "code",
      "execution_count": null,
      "metadata": {
        "colab": {
          "base_uri": "https://localhost:8080/"
        },
        "id": "4ejEZu0o7UNL",
        "outputId": "057a3e77-f7f3-4328-ec8f-6efcadbdf481"
      },
      "outputs": [
        {
          "output_type": "stream",
          "name": "stdout",
          "text": [
            "Enter the value of n : 34\n",
            "The factorial of  34 is :  295232799039604140847618609643520000000\n"
          ]
        }
      ],
      "source": [
        "#recursion\n",
        "#function calling itself is called recursion\n",
        "#factorial using recursion\n",
        "def fact(n):\n",
        "    if n==0:\n",
        "        result=1\n",
        "    else:\n",
        "        result=n*fact(n-1)\n",
        "    return result\n",
        "n=int(input(\"Enter the value of n : \"))\n",
        "print(\"The factorial of \",n, \"is : \",fact(n))"
      ]
    },
    {
      "cell_type": "code",
      "source": [
        "#mccarthy function using recursion\n",
        "def M(n):\n",
        "  if(n>100):\n",
        "    return n-10\n",
        "  else:\n",
        "    return M(M(n+11))\n",
        "int(input(\"Enter the value of n : \"))\n",
        "print(\"The value of M(n) is : \",M(n))"
      ],
      "metadata": {
        "colab": {
          "base_uri": "https://localhost:8080/"
        },
        "id": "zhFnVGX086tx",
        "outputId": "6e8c7fca-c465-4681-deed-262e9dcf91f6"
      },
      "execution_count": null,
      "outputs": [
        {
          "output_type": "stream",
          "name": "stdout",
          "text": [
            "Enter the value of n : 34\n",
            "The value of M(n) is :  91\n"
          ]
        }
      ]
    },
    {
      "cell_type": "code",
      "source": [
        "#nested function\n",
        "def f1():\n",
        "    print(\"Inside f1\")\n",
        "    def f2():\n",
        "        print(\"Inside f2\")\n",
        "    f2()\n",
        "f1()"
      ],
      "metadata": {
        "colab": {
          "base_uri": "https://localhost:8080/"
        },
        "id": "RgOZccly9_s_",
        "outputId": "76b5eb52-4c6f-48a7-c26c-e71a4ab4a1fa"
      },
      "execution_count": null,
      "outputs": [
        {
          "output_type": "stream",
          "name": "stdout",
          "text": [
            "Inside f1\n",
            "Inside f2\n"
          ]
        }
      ]
    },
    {
      "cell_type": "code",
      "source": [
        "#example of nested function\n",
        "def cube(x):\n",
        "    c=x*x*x\n",
        "    print(c)\n",
        "    def square(x):\n",
        "      s=x*x\n",
        "      print(s)\n",
        "    square(n)\n",
        "    #print(c)\n",
        "n=int(input(\"Enter the value : \"))\n",
        "cube(n)\n"
      ],
      "metadata": {
        "colab": {
          "base_uri": "https://localhost:8080/"
        },
        "id": "_AV_Wovd-F54",
        "outputId": "3b57cf63-0961-4c5c-dc04-2757861c7bd9"
      },
      "execution_count": null,
      "outputs": [
        {
          "output_type": "stream",
          "name": "stdout",
          "text": [
            "Enter the value : 10\n",
            "1000\n",
            "100\n"
          ]
        }
      ]
    },
    {
      "cell_type": "code",
      "source": [
        "#lambda function have only a single line\n",
        "#syntax\n",
        "# lambda arguments:expression\n",
        "#example\n",
        "sum=lambda x,y:x+y\n",
        "print(\"Sum= \",sum(10,20))"
      ],
      "metadata": {
        "colab": {
          "base_uri": "https://localhost:8080/"
        },
        "id": "sAb0S5NxAUdV",
        "outputId": "05bde7b5-7f4e-4b21-d037-0a00cc26a580"
      },
      "execution_count": null,
      "outputs": [
        {
          "output_type": "stream",
          "name": "stdout",
          "text": [
            "Sum=  30\n"
          ]
        }
      ]
    },
    {
      "cell_type": "code",
      "source": [
        "#lambda function as an argument to a function\n",
        "def fun(f,n):\n",
        "  print(f(n))\n",
        "twice=lambda x:x*2\n",
        "thrice=lambda x:x*3\n",
        "fun(twice,5)\n",
        "fun(thrice,4)"
      ],
      "metadata": {
        "colab": {
          "base_uri": "https://localhost:8080/"
        },
        "id": "dFQVRjQUAxjg",
        "outputId": "67de4487-f25a-4bea-bd6d-9a2431baeb74"
      },
      "execution_count": null,
      "outputs": [
        {
          "output_type": "stream",
          "name": "stdout",
          "text": [
            "10\n",
            "12\n"
          ]
        }
      ]
    },
    {
      "cell_type": "code",
      "source": [
        "#lambda function to find sum of natural number from 1 to 10\n",
        "sum=lambda x:x*(x+1)/2\n",
        "print(\"Sum= \",sum(10))"
      ],
      "metadata": {
        "colab": {
          "base_uri": "https://localhost:8080/"
        },
        "id": "lTLBx4ZGECgd",
        "outputId": "3484383a-1178-4c14-edcd-4b8be56060a4"
      },
      "execution_count": null,
      "outputs": [
        {
          "output_type": "stream",
          "name": "stdout",
          "text": [
            "Sum=  55.0\n"
          ]
        }
      ]
    },
    {
      "cell_type": "code",
      "source": [],
      "metadata": {
        "id": "dKz-Go-iE5lE"
      },
      "execution_count": null,
      "outputs": []
    }
  ]
}