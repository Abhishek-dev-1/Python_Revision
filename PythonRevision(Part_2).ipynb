{
  "nbformat": 4,
  "nbformat_minor": 0,
  "metadata": {
    "colab": {
      "provenance": [],
      "authorship_tag": "ABX9TyO+1c5f00MxxNe2dOfbDCkW",
      "include_colab_link": true
    },
    "kernelspec": {
      "name": "python3",
      "display_name": "Python 3"
    },
    "language_info": {
      "name": "python"
    }
  },
  "cells": [
    {
      "cell_type": "markdown",
      "metadata": {
        "id": "view-in-github",
        "colab_type": "text"
      },
      "source": [
        "<a href=\"https://colab.research.google.com/github/Abhishek-dev-1/Python_Revision/blob/main/PythonRevision(Part_2).ipynb\" target=\"_parent\"><img src=\"https://colab.research.google.com/assets/colab-badge.svg\" alt=\"Open In Colab\"/></a>"
      ]
    },
    {
      "cell_type": "code",
      "execution_count": 4,
      "metadata": {
        "id": "bfdvEN_TkI6c",
        "colab": {
          "base_uri": "https://localhost:8080/"
        },
        "outputId": "1e077288-654c-4679-be95-a36c04cf318e"
      },
      "outputs": [
        {
          "output_type": "stream",
          "name": "stdout",
          "text": [
            "0\n",
            "1\n",
            "2\n",
            "Bye\n"
          ]
        }
      ],
      "source": [
        "#whle loop\n",
        "i=0\n",
        "while i<3:\n",
        "  print(i)\n",
        "  i+=1\n",
        "else:\n",
        "  print(\"Bye\")"
      ]
    },
    {
      "cell_type": "code",
      "source": [
        "#write a code to find the sum of first 10 natural number\n",
        "i=1\n",
        "sum=0\n",
        "while i<=10:\n",
        "  sum+=i\n",
        "  i+=1\n",
        "print(\"Sum of first 10 natural numbers is : \",sum)"
      ],
      "metadata": {
        "colab": {
          "base_uri": "https://localhost:8080/"
        },
        "id": "EIazGpf-oDog",
        "outputId": "69483f10-2b7d-4028-cf13-3c63e997f010"
      },
      "execution_count": 6,
      "outputs": [
        {
          "output_type": "stream",
          "name": "stdout",
          "text": [
            "Sum of first 10 natural numbers is :  55\n"
          ]
        }
      ]
    },
    {
      "cell_type": "code",
      "source": [
        "#Write a program to display count of digits in a given number\n",
        "n=int(input(\"Enter a number : \"))\n",
        "count=0\n",
        "while n!=0:\n",
        "  n//=10\n",
        "  count+=1\n",
        "print(\"Number of digits in given number is : \",count)"
      ],
      "metadata": {
        "colab": {
          "base_uri": "https://localhost:8080/"
        },
        "id": "ww5N_Jt_ol5r",
        "outputId": "0c675121-0137-434d-c8c3-7d0146295bc4"
      },
      "execution_count": 7,
      "outputs": [
        {
          "output_type": "stream",
          "name": "stdout",
          "text": [
            "Enter a number : 3489\n",
            "Number of digits in given number is :  4\n"
          ]
        }
      ]
    },
    {
      "cell_type": "code",
      "source": [
        "#for loop\n",
        "for i in range(10):\n",
        "  print(i)\n",
        "#"
      ],
      "metadata": {
        "colab": {
          "base_uri": "https://localhost:8080/"
        },
        "id": "XKp7MEoZpYPa",
        "outputId": "30c6fa05-298a-491c-a013-63f5cda7fa1f"
      },
      "execution_count": 9,
      "outputs": [
        {
          "output_type": "stream",
          "name": "stdout",
          "text": [
            "0\n",
            "1\n",
            "2\n",
            "3\n",
            "4\n",
            "5\n",
            "6\n",
            "7\n",
            "8\n",
            "9\n"
          ]
        }
      ]
    },
    {
      "cell_type": "code",
      "source": [
        "#example\n",
        "total=0\n",
        "for i in range(1,10):\n",
        "  total+=i\n",
        "print(total)"
      ],
      "metadata": {
        "colab": {
          "base_uri": "https://localhost:8080/"
        },
        "id": "syUGW38Tpna-",
        "outputId": "35b4ddbf-a6d3-4b2e-d9ea-6e8238835f48"
      },
      "execution_count": 10,
      "outputs": [
        {
          "output_type": "stream",
          "name": "stdout",
          "text": [
            "45\n"
          ]
        }
      ]
    },
    {
      "cell_type": "code",
      "source": [
        "#access list using for loop\n",
        "list=[1,2,3,4,5]\n",
        "for i in list:\n",
        "  print(i)"
      ],
      "metadata": {
        "colab": {
          "base_uri": "https://localhost:8080/"
        },
        "id": "qAu1Cdq1qGRu",
        "outputId": "dec4a368-833a-47ca-d247-6e3f04edada6"
      },
      "execution_count": 11,
      "outputs": [
        {
          "output_type": "stream",
          "name": "stdout",
          "text": [
            "1\n",
            "2\n",
            "3\n",
            "4\n",
            "5\n"
          ]
        }
      ]
    },
    {
      "cell_type": "code",
      "source": [
        "#write a program to display numbers form 1 to n\n",
        "n=int(input(\"Enter a number : \"))\n",
        "for i in range(1,n+1):\n",
        "  print(i)"
      ],
      "metadata": {
        "colab": {
          "base_uri": "https://localhost:8080/"
        },
        "id": "AcM_cUSnqoBG",
        "outputId": "ef45a076-16ae-4511-a1cb-e24b5ce2d452"
      },
      "execution_count": 12,
      "outputs": [
        {
          "output_type": "stream",
          "name": "stdout",
          "text": [
            "Enter a number : 10\n",
            "1\n",
            "2\n",
            "3\n",
            "4\n",
            "5\n",
            "6\n",
            "7\n",
            "8\n",
            "9\n",
            "10\n"
          ]
        }
      ]
    },
    {
      "cell_type": "code",
      "source": [
        "#factorial using for loop\n",
        "n=int(input(\"Enter a number : \"))\n",
        "fact=1\n",
        "if n<0:\n",
        "  print(\"Factorial does not exist for negative numbers\")\n",
        "elif n==0:\n",
        "  print(\"Factorial of 0 is 1\")\n",
        "else:\n",
        "   for i in range(1,n+1):\n",
        "    fact*=i\n",
        "    print(\"Factorial of given number is : \",fact)"
      ],
      "metadata": {
        "colab": {
          "base_uri": "https://localhost:8080/"
        },
        "id": "ccy53SJ9q4Bk",
        "outputId": "106f04eb-43b8-420e-8760-fa7485f1c887"
      },
      "execution_count": 17,
      "outputs": [
        {
          "output_type": "stream",
          "name": "stdout",
          "text": [
            "Enter a number : -10\n",
            "Factorial does not exist for negative numbers\n"
          ]
        }
      ]
    },
    {
      "cell_type": "code",
      "source": [
        "#break and continue statement\n",
        "for i in range(1,10):\n",
        "  if i==5:\n",
        "    break\n",
        "  print(i)"
      ],
      "metadata": {
        "colab": {
          "base_uri": "https://localhost:8080/"
        },
        "id": "fIQCNQ7QrERy",
        "outputId": "792e8b71-f657-49b8-89fa-1927edcf639d"
      },
      "execution_count": 19,
      "outputs": [
        {
          "output_type": "stream",
          "name": "stdout",
          "text": [
            "1\n",
            "2\n",
            "3\n",
            "4\n"
          ]
        }
      ]
    },
    {
      "cell_type": "code",
      "source": [
        "#displaying cube of a number up to given integer\n",
        "n=int(input(\"Enter a number : \"))\n",
        "for i in range(1,n+1):\n",
        "  print(\"Cube of \",i,\" is \",i**3)"
      ],
      "metadata": {
        "colab": {
          "base_uri": "https://localhost:8080/"
        },
        "id": "aKE5m-t2sblz",
        "outputId": "a85886c9-5c66-4ca7-9abe-60ec3cdc737b"
      },
      "execution_count": 20,
      "outputs": [
        {
          "output_type": "stream",
          "name": "stdout",
          "text": [
            "Enter a number : 7\n",
            "Cube of  1  is  1\n",
            "Cube of  2  is  8\n",
            "Cube of  3  is  27\n",
            "Cube of  4  is  64\n",
            "Cube of  5  is  125\n",
            "Cube of  6  is  216\n",
            "Cube of  7  is  343\n"
          ]
        }
      ]
    },
    {
      "cell_type": "code",
      "source": [
        "#sum of digits in given numbers\n",
        "n=int(input(\"Enter a number : \"))\n",
        "sum=0\n",
        "while n!=0:\n",
        "  sum+=n%10\n",
        "  n//=10\n",
        "print(\"Sum of digits in given number is : \",sum)"
      ],
      "metadata": {
        "colab": {
          "base_uri": "https://localhost:8080/"
        },
        "id": "JR4EmFcBs4Os",
        "outputId": "a8aa8afa-4146-49a5-999f-03153211de66"
      },
      "execution_count": 21,
      "outputs": [
        {
          "output_type": "stream",
          "name": "stdout",
          "text": [
            "Enter a number : 24678\n",
            "Sum of digits in given number is :  27\n"
          ]
        }
      ]
    },
    {
      "cell_type": "code",
      "source": [
        "#displaying multiplication table\n",
        "n=int(input(\"Enter a number : \"))\n",
        "for i in range(1,11):\n",
        "  print(n,\"*\",i,\"=\",n*i)"
      ],
      "metadata": {
        "colab": {
          "base_uri": "https://localhost:8080/"
        },
        "id": "eGUZyTvgtpUu",
        "outputId": "58023de7-9f3b-445f-e76f-b872fed83687"
      },
      "execution_count": 22,
      "outputs": [
        {
          "output_type": "stream",
          "name": "stdout",
          "text": [
            "Enter a number : 10\n",
            "10 * 1 = 10\n",
            "10 * 2 = 20\n",
            "10 * 3 = 30\n",
            "10 * 4 = 40\n",
            "10 * 5 = 50\n",
            "10 * 6 = 60\n",
            "10 * 7 = 70\n",
            "10 * 8 = 80\n",
            "10 * 9 = 90\n",
            "10 * 10 = 100\n"
          ]
        }
      ]
    },
    {
      "cell_type": "code",
      "source": [
        "#find average of set of integers\n",
        "sum=0\n",
        "count=0\n",
        "print(\"Enter 0 to exit\")\n",
        "while True:\n",
        "  n=int(input(\"Enter a number : \"))\n",
        "  if n==0:\n",
        "    break\n",
        "  sum+=n\n",
        "  count+=1\n",
        "if count==0:\n",
        "  print(\"No numbers entered\")\n",
        "else:\n",
        "  print(\"Average of given numbers is : \",sum/count)"
      ],
      "metadata": {
        "colab": {
          "base_uri": "https://localhost:8080/"
        },
        "id": "JQC7ppEJt8rv",
        "outputId": "012d7f73-470b-4d0b-b211-917badda380f"
      },
      "execution_count": 25,
      "outputs": [
        {
          "output_type": "stream",
          "name": "stdout",
          "text": [
            "Enter 0 to exit\n",
            "Enter a number : 20\n",
            "Enter a number : 34\n",
            "Enter a number : 55\n",
            "Enter a number : 67\n",
            "Enter a number : 89\n",
            "Enter a number : 0\n",
            "Average of given numbers is :  53.0\n"
          ]
        }
      ]
    },
    {
      "cell_type": "code",
      "source": [
        "#code to generate  prime number from 1 to n\n",
        "n = int(input(\"Enter a number: \"))\n",
        "print(\"Prime numbers between 1 and\", n, \"are:\")\n",
        "for i in range(1, n + 1):\n",
        "   if i > 1:\n",
        "       for j in range(2, i):\n",
        "           if (i % j) == 0:\n",
        "               break\n",
        "       else:\n",
        "           print(i)"
      ],
      "metadata": {
        "colab": {
          "base_uri": "https://localhost:8080/"
        },
        "id": "58sBQw4muacP",
        "outputId": "9556c92b-240c-46eb-960a-89323d19d29e"
      },
      "execution_count": 26,
      "outputs": [
        {
          "output_type": "stream",
          "name": "stdout",
          "text": [
            "Enter a number: 89\n",
            "Prime numbers between 1 and 89 are:\n",
            "2\n",
            "3\n",
            "5\n",
            "7\n",
            "11\n",
            "13\n",
            "17\n",
            "19\n",
            "23\n",
            "29\n",
            "31\n",
            "37\n",
            "41\n",
            "43\n",
            "47\n",
            "53\n",
            "59\n",
            "61\n",
            "67\n",
            "71\n",
            "73\n",
            "79\n",
            "83\n",
            "89\n"
          ]
        }
      ]
    },
    {
      "cell_type": "code",
      "source": [
        "#code to give integer in reverse\n",
        "n=int(input(\"Enter a number : \"))\n",
        "rev=0\n",
        "while n!=0:\n",
        "  rev=rev*10+n%10\n",
        "  n//=10\n",
        "print(\"Reverse of given number is : \",rev)"
      ],
      "metadata": {
        "colab": {
          "base_uri": "https://localhost:8080/"
        },
        "id": "_IpGHsIvvQR8",
        "outputId": "890a1be8-7717-47a2-b094-7416596df970"
      },
      "execution_count": 27,
      "outputs": [
        {
          "output_type": "stream",
          "name": "stdout",
          "text": [
            "Enter a number : 256\n",
            "Reverse of given number is :  652\n"
          ]
        }
      ]
    },
    {
      "cell_type": "code",
      "source": [],
      "metadata": {
        "id": "t8sivPOiwpat"
      },
      "execution_count": null,
      "outputs": []
    }
  ]
}