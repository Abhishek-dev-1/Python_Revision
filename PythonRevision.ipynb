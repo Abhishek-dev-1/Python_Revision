{
  "nbformat": 4,
  "nbformat_minor": 0,
  "metadata": {
    "colab": {
      "provenance": [],
      "authorship_tag": "ABX9TyPBBkGaQk9Pto2t79tv6N6/",
      "include_colab_link": true
    },
    "kernelspec": {
      "name": "python3",
      "display_name": "Python 3"
    },
    "language_info": {
      "name": "python"
    }
  },
  "cells": [
    {
      "cell_type": "markdown",
      "metadata": {
        "id": "view-in-github",
        "colab_type": "text"
      },
      "source": [
        "<a href=\"https://colab.research.google.com/github/Abhishek-dev-1/Python_Revision/blob/main/PythonRevision.ipynb\" target=\"_parent\"><img src=\"https://colab.research.google.com/assets/colab-badge.svg\" alt=\"Open In Colab\"/></a>"
      ]
    },
    {
      "cell_type": "code",
      "execution_count": null,
      "metadata": {
        "colab": {
          "base_uri": "https://localhost:8080/"
        },
        "id": "ehq2WDoVgXb7",
        "outputId": "158d9690-c610-409f-8834-090fbb61a190"
      },
      "outputs": [
        {
          "output_type": "stream",
          "name": "stdout",
          "text": [
            "Hello World\n"
          ]
        }
      ],
      "source": [
        "print(\"Hello World\")"
      ]
    },
    {
      "cell_type": "code",
      "source": [
        "print(\"welcome to python programming\")"
      ],
      "metadata": {
        "colab": {
          "base_uri": "https://localhost:8080/"
        },
        "id": "EDfEzD4Qgh2J",
        "outputId": "25f6a24e-5288-476b-9644-43d0b0ca7bd7"
      },
      "execution_count": null,
      "outputs": [
        {
          "output_type": "stream",
          "name": "stdout",
          "text": [
            "welcome to python programming\n"
          ]
        }
      ]
    },
    {
      "cell_type": "code",
      "source": [
        "#comment line\n",
        "#Arithematic Operators + - * / // **\n",
        "a=10\n",
        "b=2\n",
        "#c=a+b\n",
        "#c=a-b\n",
        "#c=a/b\n",
        "#c=a//b\n",
        "c=a**b\n",
        "print(c)"
      ],
      "metadata": {
        "colab": {
          "base_uri": "https://localhost:8080/"
        },
        "id": "YAwngUzYg3rh",
        "outputId": "36db7150-49ae-495b-f4e0-47bf42d4a995"
      },
      "execution_count": null,
      "outputs": [
        {
          "output_type": "stream",
          "name": "stdout",
          "text": [
            "100\n"
          ]
        }
      ]
    },
    {
      "cell_type": "code",
      "source": [
        "#computing averaage of two number\n",
        "a=int(input(\"enter the first number\"))\n",
        "b=int(input(\"enter the second number\"))\n",
        "c=(a+b)/2\n",
        "print(\"Average of two given numbers is :\", c)"
      ],
      "metadata": {
        "colab": {
          "base_uri": "https://localhost:8080/"
        },
        "id": "DT1FcKQohrNN",
        "outputId": "29564e19-af2d-49df-cfd3-ebddedc1bd8a"
      },
      "execution_count": null,
      "outputs": [
        {
          "output_type": "stream",
          "name": "stdout",
          "text": [
            "enter the first number10\n",
            "enter the second number20\n",
            "Average of two given numbers is : 15.0\n"
          ]
        }
      ]
    },
    {
      "cell_type": "code",
      "source": [
        "#computing area of circle\n",
        "r=float(input(\"enter the radius of circle\"))\n",
        "area=3.14*r*r\n",
        "circumference=2*3.14*r\n",
        "print(\"Area of circle is :\", area)\n",
        "print(\"Circumference of circle is :\", circumference)"
      ],
      "metadata": {
        "colab": {
          "base_uri": "https://localhost:8080/"
        },
        "id": "VSNJWWM_iWEd",
        "outputId": "eefcfd26-47d3-4158-e125-94c9bc14a086"
      },
      "execution_count": null,
      "outputs": [
        {
          "output_type": "stream",
          "name": "stdout",
          "text": [
            "enter the radius of circle73\n",
            "Area of circle is : 16733.06\n",
            "Circumference of circle is : 458.44\n"
          ]
        }
      ]
    },
    {
      "cell_type": "code",
      "source": [
        "#relational  operators in python\n",
        "# < <= > >= == !=\n",
        "a=10\n",
        "b=20\n",
        "print(a<b)\n",
        "print(a<=b)\n",
        "print(a>b)\n",
        "print(a>=b)\n",
        "print(a==b)\n",
        "print(a!=b)"
      ],
      "metadata": {
        "colab": {
          "base_uri": "https://localhost:8080/"
        },
        "id": "EAY3xUV_i6vT",
        "outputId": "6fc69c73-bb09-42b4-b6ea-a7f14a3b90c4"
      },
      "execution_count": null,
      "outputs": [
        {
          "output_type": "stream",
          "name": "stdout",
          "text": [
            "True\n",
            "True\n",
            "False\n",
            "False\n",
            "False\n",
            "True\n"
          ]
        }
      ]
    },
    {
      "cell_type": "code",
      "source": [
        "#logical operator in python\n",
        "#and or not\n",
        "a=10\n",
        "b=20\n",
        "c=30\n",
        "print(a>b and a>c)\n",
        "print(a>b or a>c)\n",
        "print(not(a>b))"
      ],
      "metadata": {
        "colab": {
          "base_uri": "https://localhost:8080/"
        },
        "id": "zjKAWlEmkGUw",
        "outputId": "f50b30d9-1727-49b7-f0ee-e8e5515acc24"
      },
      "execution_count": null,
      "outputs": [
        {
          "output_type": "stream",
          "name": "stdout",
          "text": [
            "False\n",
            "False\n",
            "True\n"
          ]
        }
      ]
    },
    {
      "cell_type": "code",
      "source": [
        "#bitwise operators in python\n",
        "a=10\n",
        "b=4\n",
        "print(a&b) #and\n",
        "print(a|b)#or\n",
        "print(a^b)#xor\n",
        "print(~a)#nor\n",
        "print(a>>2)#right shift\n",
        "print(a<<2)#left shift"
      ],
      "metadata": {
        "colab": {
          "base_uri": "https://localhost:8080/"
        },
        "id": "PjJp1BmKkgry",
        "outputId": "f7aef7ae-6aa1-423f-c97e-36afd8f52107"
      },
      "execution_count": null,
      "outputs": [
        {
          "output_type": "stream",
          "name": "stdout",
          "text": [
            "0\n",
            "14\n",
            "14\n",
            "-11\n",
            "2\n",
            "40\n"
          ]
        }
      ]
    },
    {
      "cell_type": "code",
      "source": [
        "#calculate area of triangle ussing Heron's formula\n",
        "a=float(input(\"enter the first side\"))\n",
        "b=float(input(\"enter the second side\"))\n",
        "c=float(input(\"enter the third side\"))\n",
        "s=(a+b+c)/2\n",
        "area=(s*(s-a)*(s-b)*(s-c))**0.5\n",
        "print(\"Area of triangle is :\", area)"
      ],
      "metadata": {
        "colab": {
          "base_uri": "https://localhost:8080/"
        },
        "id": "CWo8ga-ek_eb",
        "outputId": "1158fe68-eee8-47d3-9c3b-0157868fffb1"
      },
      "execution_count": null,
      "outputs": [
        {
          "output_type": "stream",
          "name": "stdout",
          "text": [
            "enter the first side15\n",
            "enter the second side17\n",
            "enter the third side13\n",
            "Area of triangle is : 93.89988019161686\n"
          ]
        }
      ]
    },
    {
      "cell_type": "code",
      "source": [
        "#Python program to convert the temperature in degree centigrade to Fahrenheit\n",
        "c=float(input(\"enter the temperature in degree centigrade\"))\n",
        "f=(c*9/5)+32\n",
        "print(\"Temperature in Fahrenheit is :\", f)"
      ],
      "metadata": {
        "colab": {
          "base_uri": "https://localhost:8080/"
        },
        "id": "nwyMIS-_mRs0",
        "outputId": "177f4f66-63a8-424c-f8ee-732d6b4fe408"
      },
      "execution_count": null,
      "outputs": [
        {
          "output_type": "stream",
          "name": "stdout",
          "text": [
            "enter the temperature in degree centigrade15\n",
            "Temperature in Fahrenheit is : 59.0\n"
          ]
        }
      ]
    },
    {
      "cell_type": "code",
      "source": [
        "#conditionals operators\n",
        "#if statement\n",
        "a=10\n",
        "b=20\n",
        "if(a<b):\n",
        "    print(\"a is greater than b\")\n",
        "\n"
      ],
      "metadata": {
        "id": "bL6qu-F8nB0s",
        "colab": {
          "base_uri": "https://localhost:8080/"
        },
        "outputId": "72d6e91f-3da5-4492-d493-e47dca241c05"
      },
      "execution_count": null,
      "outputs": [
        {
          "output_type": "stream",
          "name": "stdout",
          "text": [
            "a is greater than b\n"
          ]
        }
      ]
    },
    {
      "cell_type": "code",
      "source": [
        "#multiple if statement\n",
        "a=10\n",
        "b=20\n",
        "if(a>b):\n",
        "    print(\"a is greater than b\")\n",
        "if(a<b):\n",
        "    print(\"a is less than b\")\n",
        "if(a==b):\n",
        "    print(\"a is equal to b\")\n",
        "#"
      ],
      "metadata": {
        "colab": {
          "base_uri": "https://localhost:8080/"
        },
        "id": "KHa3SfSLbTwf",
        "outputId": "22f566a5-5e49-4603-ee37-55c35d1fd800"
      },
      "execution_count": null,
      "outputs": [
        {
          "output_type": "stream",
          "name": "stdout",
          "text": [
            "a is less than b\n"
          ]
        }
      ]
    },
    {
      "cell_type": "code",
      "source": [
        "#write a program to determine whether a person is eligible to vote or not\n",
        "age=int(input(\"enter the age\"))\n",
        "if(age>=18):\n",
        "    print(\"person is eligible to vote\")\n",
        "else:\n",
        "    print(\"person is not eligible to vote\")"
      ],
      "metadata": {
        "colab": {
          "base_uri": "https://localhost:8080/"
        },
        "id": "eL3_8hbBbcHV",
        "outputId": "e058a8f8-fb6f-4b03-8e9e-0fe8099270d0"
      },
      "execution_count": null,
      "outputs": [
        {
          "output_type": "stream",
          "name": "stdout",
          "text": [
            "enter the age20\n",
            "person is eligible to vote\n"
          ]
        }
      ]
    },
    {
      "cell_type": "code",
      "source": [
        "#write a python code to check the enter charactr is alphabet or digit\n",
        "ch=input(\"enter the character\")\n",
        "# if((ch>='a' and ch<='z') or (ch>='A' and ch<='Z')):\n",
        "#     print(\"character is alphabet\")\n",
        "# if(ch>='0' and ch<='9'):\n",
        "#     print(\"character is digit\")\n",
        "if ch.isalpha():\n",
        "    print(\"character is alphabet\")\n",
        "if ch.isdigit():\n",
        "    print(\"character is digit\")\n",
        "if ch.isspace():\n",
        "    print(\"character is space\")\n"
      ],
      "metadata": {
        "colab": {
          "base_uri": "https://localhost:8080/"
        },
        "id": "HjJaQBwqbyy1",
        "outputId": "f9f64cf7-4081-4000-d254-16767f0949b8"
      },
      "execution_count": null,
      "outputs": [
        {
          "output_type": "stream",
          "name": "stdout",
          "text": [
            "enter the character \n",
            "character is space\n"
          ]
        }
      ]
    },
    {
      "cell_type": "code",
      "source": [
        "#if else statement\n",
        "x=int(input(\"enter the first number X : \"))\n",
        "y=int(input(\"enter the second number Y : \"))\n",
        "if(x>y):\n",
        "    print(\"x is greater than y\")\n",
        "else:\n",
        "    print(\"y is greater than x\")"
      ],
      "metadata": {
        "colab": {
          "base_uri": "https://localhost:8080/"
        },
        "id": "pJBuIi3wcYYX",
        "outputId": "7d994c1c-3cb9-4d0b-f869-0dc87f131918"
      },
      "execution_count": null,
      "outputs": [
        {
          "output_type": "stream",
          "name": "stdout",
          "text": [
            "enter the first number X : 27\n",
            "enter the second number Y : 24\n",
            "x is greater than y\n"
          ]
        }
      ]
    },
    {
      "cell_type": "code",
      "source": [
        "#check wether the character is vowel or not\n",
        "ch=input(\"enter the character\")\n",
        "if(ch=='a' or ch=='e' or ch=='i' or ch=='o' or ch=='u' or ch=='A' or ch=='E' or ch=='I' or ch=='O' or ch=='U'):\n",
        "    print(\"character is vowel\")\n",
        "else:\n",
        "    print(\"character is consonant\")"
      ],
      "metadata": {
        "colab": {
          "base_uri": "https://localhost:8080/"
        },
        "id": "xwhqg_mjczP-",
        "outputId": "91d2aadb-c253-4bb4-90d6-29072bf5d6ac"
      },
      "execution_count": null,
      "outputs": [
        {
          "output_type": "stream",
          "name": "stdout",
          "text": [
            "enter the characterE\n",
            "character is vowel\n"
          ]
        }
      ]
    },
    {
      "cell_type": "code",
      "source": [
        "#check wether the character is alphabet or not\n",
        "ch=input(\"enter the character \")\n",
        "if((ch>='a' and ch<='z') or (ch>='A' and ch<='Z')):\n",
        "    print(\"character is alphabet\")\n",
        "else:\n",
        "    print(\"character is not alphabet\")"
      ],
      "metadata": {
        "colab": {
          "base_uri": "https://localhost:8080/"
        },
        "id": "Kp_OHLY5dOvQ",
        "outputId": "bf8bbc7a-e93c-4c00-c74d-57008b1a3c07"
      },
      "execution_count": null,
      "outputs": [
        {
          "output_type": "stream",
          "name": "stdout",
          "text": [
            "enter the character a\n",
            "character is alphabet\n"
          ]
        }
      ]
    },
    {
      "cell_type": "code",
      "source": [
        "#check wether the year is leap year or not with all conditions\n",
        "year=int(input(\"enter the year: \"))\n",
        "if (year%4==0 and year%100!=0 or year%400==0):\n",
        "    print(\"year is leap year\")\n",
        "else:\n",
        "    print(\"year is not leap year\")"
      ],
      "metadata": {
        "colab": {
          "base_uri": "https://localhost:8080/"
        },
        "id": "Ee6mx0zPeEXS",
        "outputId": "8c4a4925-a89e-4343-d8a5-f6220968b188"
      },
      "execution_count": null,
      "outputs": [
        {
          "output_type": "stream",
          "name": "stdout",
          "text": [
            "enter the year: 2024\n",
            "year is leap year\n"
          ]
        }
      ]
    },
    {
      "cell_type": "code",
      "source": [
        "#Nested if statement\n",
        "a=130\n",
        "b=20\n",
        "c=30\n",
        "if(a>b):\n",
        "    if(a>c):\n",
        "        print(\"a is greater than b and c\")"
      ],
      "metadata": {
        "colab": {
          "base_uri": "https://localhost:8080/"
        },
        "id": "eTFqGB0xfCM7",
        "outputId": "2ece445d-028a-4ecf-e51a-61c454c7a7b3"
      },
      "execution_count": null,
      "outputs": [
        {
          "output_type": "stream",
          "name": "stdout",
          "text": [
            "a is greater than b and c\n"
          ]
        }
      ]
    },
    {
      "cell_type": "code",
      "source": [
        "#nested example\n",
        "number=int(input(\"enter the number\"))\n",
        "if(number>=0):\n",
        "    if(number==0):\n",
        "        print(\"number is zero\")\n",
        "    else:\n",
        "        print(\"number is positive\")\n",
        "else:\n",
        "    print(\"number is negative\")"
      ],
      "metadata": {
        "colab": {
          "base_uri": "https://localhost:8080/"
        },
        "id": "w8Ah40PGfg0s",
        "outputId": "03767618-4308-4c3d-cc08-6855ec91c308"
      },
      "execution_count": null,
      "outputs": [
        {
          "output_type": "stream",
          "name": "stdout",
          "text": [
            "enter the number25\n",
            "number is positive\n"
          ]
        }
      ]
    },
    {
      "cell_type": "code",
      "source": [
        "#find biggest among given two number\n",
        "a=int(input(\"enter the first number a :\"))\n",
        "b=int(input(\"enter the second number b :\"))\n",
        "if(a>b):\n",
        "    print(\"a is greater than b\")\n",
        "else:\n",
        "    print(\"b is greater than a\")"
      ],
      "metadata": {
        "colab": {
          "base_uri": "https://localhost:8080/"
        },
        "id": "TTgSxpzMgOOz",
        "outputId": "5edd9a71-f383-4081-bfa3-49d18d3ab0e3"
      },
      "execution_count": null,
      "outputs": [
        {
          "output_type": "stream",
          "name": "stdout",
          "text": [
            "enter the first number a :25\n",
            "enter the second number b :87\n",
            "b is greater than a\n"
          ]
        }
      ]
    },
    {
      "cell_type": "code",
      "source": [
        "#if , else , elif statement\n",
        "x=int(input(\"enter the first number X : \"))\n",
        "y=int(input(\"enter the second number Y : \"))\n",
        "if(x>y):\n",
        "    print(\"x is greater than y\")\n",
        "elif(x<y):\n",
        "    print(\"y is greater than x\")\n",
        "else:\n",
        "    print(\"x is equal to y\")\n",
        "#"
      ],
      "metadata": {
        "colab": {
          "base_uri": "https://localhost:8080/"
        },
        "id": "ouVLtcKGgZib",
        "outputId": "7c48e24b-42e8-49d1-c728-61d983ec851f"
      },
      "execution_count": null,
      "outputs": [
        {
          "output_type": "stream",
          "name": "stdout",
          "text": [
            "enter the first number X : 27\n",
            "enter the second number Y : 98\n",
            "y is greater than x\n"
          ]
        }
      ]
    },
    {
      "cell_type": "code",
      "source": [
        "#write a program to find relation between two numbers\n",
        "a=int(input(\"enter the first number a :\"))\n",
        "b=int(input(\"enter the second number b :\"))\n",
        "if(a>b):\n",
        "    print(\"a is greater than b\")\n",
        "elif(a<b):\n",
        "    print(\"b is greater than a\")\n",
        "else:\n",
        "    print(\"a is equal to b\")\n"
      ],
      "metadata": {
        "colab": {
          "base_uri": "https://localhost:8080/"
        },
        "id": "Iwl7GZm9hOK1",
        "outputId": "ef1545f7-f728-49b3-db25-d0edc77706cb"
      },
      "execution_count": null,
      "outputs": [
        {
          "output_type": "stream",
          "name": "stdout",
          "text": [
            "enter the first number a :28\n",
            "enter the second number b :76\n",
            "b is greater than a\n"
          ]
        }
      ]
    },
    {
      "cell_type": "code",
      "source": [
        "#python program to check wether the given integer is multiple of both 5 & 7\n",
        "x=int(input(\"enter the number\"))\n",
        "if(x%5==0 and x%7==0):\n",
        "    print(\"number is multiple of both 5 & 7\")\n",
        "else:\n",
        "    print(\"number is not multiple of both 5 & 7\")"
      ],
      "metadata": {
        "colab": {
          "base_uri": "https://localhost:8080/"
        },
        "id": "C0FgfwZ8hq74",
        "outputId": "e003eefd-fbba-48f0-9524-6394b79ea056"
      },
      "execution_count": null,
      "outputs": [
        {
          "output_type": "stream",
          "name": "stdout",
          "text": [
            "enter the number35\n",
            "number is multiple of both 5 & 7\n"
          ]
        }
      ]
    },
    {
      "cell_type": "code",
      "source": [
        "#write a python code to find the roots of a quadratic equation\n",
        "x=int(input(\"enter the value\"))\n",
        "y=int(input(\"enter the value\"))\n",
        "z=int(input(\"enter the value\"))\n",
        "d=(y**2)-(4*x*z)\n",
        "if(d>0):\n",
        "    print(\"roots are real and unequal\")\n",
        "elif(d==0):\n",
        "    print(\"roots are real and equal\")\n",
        "else:\n",
        "    print(\"roots are imaginary\")\n",
        "#"
      ],
      "metadata": {
        "colab": {
          "base_uri": "https://localhost:8080/"
        },
        "id": "3L_MLuNdiBNT",
        "outputId": "33f04f13-5f89-417a-9a63-e7d9d19f4b7d"
      },
      "execution_count": null,
      "outputs": [
        {
          "output_type": "stream",
          "name": "stdout",
          "text": [
            "enter the value20\n",
            "enter the value34\n",
            "enter the value65\n",
            "roots are imaginary\n"
          ]
        }
      ]
    },
    {
      "cell_type": "code",
      "source": [],
      "metadata": {
        "id": "IWYvZQGPj40l"
      },
      "execution_count": null,
      "outputs": []
    }
  ]
}